{
 "cells": [
  {
   "cell_type": "markdown",
   "metadata": {},
   "source": [
    "## Validate the data (tables) stored in Amazon S3."
   ]
  },
  {
   "cell_type": "code",
   "execution_count": 147,
   "metadata": {},
   "outputs": [],
   "source": [
    "import configparser\n",
    "import os\n",
    "from datetime import datetime\n",
    "\n",
    "#import logging\n",
    "#import boto3\n",
    "#from botocore.exceptions import ClientError\n",
    "\n",
    "import pandas as pd\n",
    "import numpy as np\n",
    "import matplotlib.pyplot as plt\n",
    "\n",
    "from pyspark.sql import SparkSession\n",
    "from pyspark import SparkContext\n",
    "\n",
    "from datetime import datetime\n",
    "from pyspark.sql import SparkSession\n",
    "from pyspark.sql.functions import udf, col\n",
    "from pyspark.sql.functions import year, month, dayofmonth, hour, weekofyear, date_format\n",
    "\n",
    "from pyspark.sql.types import StringType, IntegerType, TimestampType, DateType\n",
    "\n",
    "from pyspark.sql.functions import desc\n",
    "from pyspark.sql.functions import asc\n",
    "from pyspark.sql.functions import sum as Fsum\n",
    "from pyspark.sql import functions as f\n",
    "\n",
    "from pyspark.sql import SQLContext"
   ]
  },
  {
   "cell_type": "markdown",
   "metadata": {},
   "source": [
    "## Read from the AWS credentials from config file"
   ]
  },
  {
   "cell_type": "code",
   "execution_count": 148,
   "metadata": {},
   "outputs": [
    {
     "data": {
      "text/plain": [
       "['dl.cfg']"
      ]
     },
     "execution_count": 148,
     "metadata": {},
     "output_type": "execute_result"
    }
   ],
   "source": [
    "config = configparser.ConfigParser()\n",
    "config.read('dl.cfg')"
   ]
  },
  {
   "cell_type": "code",
   "execution_count": 149,
   "metadata": {},
   "outputs": [],
   "source": [
    "os.environ['AWS_ACCESS_KEY_ID']= config['AWS']['AWS_ACCESS_KEY_ID']\n",
    "os.environ['AWS_SECRET_ACCESS_KEY']= config['AWS']['AWS_SECRET_ACCESS_KEY']\n",
    "\n",
    "KEY= config['AWS']['AWS_ACCESS_KEY_ID']\n",
    "SECRET= config['AWS']['AWS_SECRET_ACCESS_KEY']"
   ]
  },
  {
   "cell_type": "code",
   "execution_count": 150,
   "metadata": {},
   "outputs": [],
   "source": [
    "def create_spark_session():\n",
    "    spark = SparkSession \\\n",
    "        .builder \\\n",
    "        .config(\"spark.jars.packages\", \"org.apache.hadoop:hadoop-aws:2.7.0\") \\\n",
    "        .getOrCreate()\n",
    "    return spark"
   ]
  },
  {
   "cell_type": "code",
   "execution_count": 151,
   "metadata": {},
   "outputs": [],
   "source": [
    "spark = create_spark_session()"
   ]
  },
  {
   "cell_type": "code",
   "execution_count": 152,
   "metadata": {},
   "outputs": [
    {
     "data": {
      "text/html": [
       "\n",
       "            <div>\n",
       "                <p><b>SparkSession - in-memory</b></p>\n",
       "                \n",
       "        <div>\n",
       "            <p><b>SparkContext</b></p>\n",
       "\n",
       "            <p><a href=\"http://Ranjith-Lenovo:4046\">Spark UI</a></p>\n",
       "\n",
       "            <dl>\n",
       "              <dt>Version</dt>\n",
       "                <dd><code>v2.4.5</code></dd>\n",
       "              <dt>Master</dt>\n",
       "                <dd><code>local[*]</code></dd>\n",
       "              <dt>AppName</dt>\n",
       "                <dd><code>pyspark-shell</code></dd>\n",
       "            </dl>\n",
       "        </div>\n",
       "        \n",
       "            </div>\n",
       "        "
      ],
      "text/plain": [
       "<pyspark.sql.session.SparkSession at 0x1a15240d240>"
      ]
     },
     "execution_count": 152,
     "metadata": {},
     "output_type": "execute_result"
    }
   ],
   "source": [
    "spark"
   ]
  },
  {
   "cell_type": "markdown",
   "metadata": {},
   "source": [
    "## Read the data from S3 bucket"
   ]
  },
  {
   "cell_type": "code",
   "execution_count": 153,
   "metadata": {},
   "outputs": [],
   "source": [
    "output = \"s3a://desh1gvrk/parquet\"\n",
    "input =  \"s3a://udacity-dend/\""
   ]
  },
  {
   "cell_type": "markdown",
   "metadata": {},
   "source": [
    "### Read the Songplays fact dimension table"
   ]
  },
  {
   "cell_type": "code",
   "execution_count": 154,
   "metadata": {},
   "outputs": [],
   "source": [
    "songplays = output + '/songplays'\n",
    "songplays_df = spark.read.parquet(songplays)\n",
    "tot_fact_records = songplays_df.count()"
   ]
  },
  {
   "cell_type": "code",
   "execution_count": 155,
   "metadata": {},
   "outputs": [
    {
     "name": "stdout",
     "output_type": "stream",
     "text": [
      "Number of records in Fact Table: 6820\n"
     ]
    }
   ],
   "source": [
    "print(\"Number of records in Fact Table: {}\".format(tot_fact_records))"
   ]
  },
  {
   "cell_type": "markdown",
   "metadata": {},
   "source": [
    "### Filter all the records which have Non NULL song_id"
   ]
  },
  {
   "cell_type": "code",
   "execution_count": 156,
   "metadata": {},
   "outputs": [],
   "source": [
    "fact_songNN = songplays_df.filter(songplays_df.song_id.isNotNull())"
   ]
  },
  {
   "cell_type": "markdown",
   "metadata": {},
   "source": [
    "### Create View of the Fact Table"
   ]
  },
  {
   "cell_type": "code",
   "execution_count": 157,
   "metadata": {},
   "outputs": [],
   "source": [
    "fact_songNN.createOrReplaceTempView('fact_songNN')"
   ]
  },
  {
   "cell_type": "markdown",
   "metadata": {},
   "source": [
    "### Create View of the users dimension (Output) table"
   ]
  },
  {
   "cell_type": "code",
   "execution_count": 158,
   "metadata": {},
   "outputs": [],
   "source": [
    "users = spark.read.parquet(output + '/users')"
   ]
  },
  {
   "cell_type": "code",
   "execution_count": 160,
   "metadata": {},
   "outputs": [],
   "source": [
    "users.createOrReplaceTempView('users')"
   ]
  },
  {
   "cell_type": "code",
   "execution_count": 161,
   "metadata": {},
   "outputs": [
    {
     "name": "stdout",
     "output_type": "stream",
     "text": [
      "+------+----------+---------+------+-----+\n",
      "|userId| firstName| lastName|gender|level|\n",
      "+------+----------+---------+------+-----+\n",
      "|    88|  Mohammad|Rodriguez|     M| paid|\n",
      "|    88|  Mohammad|Rodriguez|     M| free|\n",
      "|    68|    Jordan|Rodriguez|     F| free|\n",
      "|    29|Jacqueline|    Lynch|     F| free|\n",
      "|    11| Christian|   Porter|     F| free|\n",
      "|    53|   Celeste| Williams|     F| free|\n",
      "|    69|  Anabelle|  Simpson|     F| free|\n",
      "|    75|    Joseph|Gutierrez|     M| free|\n",
      "|    40|    Tucker| Garrison|     M| free|\n",
      "|     2|   Jizelle| Benjamin|     F| free|\n",
      "|    14|  Theodore|   Harris|     M| free|\n",
      "|    52|  Theodore|    Smith|     M| free|\n",
      "|    56|    Cienna|  Freeman|     F| free|\n",
      "|    12|    Austin|  Rosales|     M| free|\n",
      "|    19|   Zachary|   Thomas|     M| free|\n",
      "|    23|    Morris|  Gilmore|     M| free|\n",
      "|    55|    Martin|  Johnson|     M| free|\n",
      "|    66|     Kevin| Arellano|     M| free|\n",
      "|    64|    Hannah|  Calhoun|     F| free|\n",
      "|   100|     Adler|  Barrera|     M| free|\n",
      "+------+----------+---------+------+-----+\n",
      "only showing top 20 rows\n",
      "\n"
     ]
    }
   ],
   "source": [
    "users.show()"
   ]
  },
  {
   "cell_type": "markdown",
   "metadata": {},
   "source": [
    "### Create View of the artists dimension (Output) table"
   ]
  },
  {
   "cell_type": "code",
   "execution_count": 172,
   "metadata": {},
   "outputs": [],
   "source": [
    "artists = spark.read.parquet(output + '/artists')"
   ]
  },
  {
   "cell_type": "code",
   "execution_count": 173,
   "metadata": {},
   "outputs": [],
   "source": [
    "artists.createOrReplaceTempView('artists')"
   ]
  },
  {
   "cell_type": "code",
   "execution_count": 174,
   "metadata": {},
   "outputs": [
    {
     "name": "stdout",
     "output_type": "stream",
     "text": [
      "+------------------+--------------------+--------------------+---------------+----------------+\n",
      "|         artist_id|         artist_name|     artist_location|artist_latitude|artist_longitude|\n",
      "+------------------+--------------------+--------------------+---------------+----------------+\n",
      "|ARXG6L11187FB5695E|SWAMI featuring A...|Birmingham/ Londo...|       52.47859|         -1.9086|\n",
      "|ARWAFY51187FB5C4EF|         Lil Scrappy|         Atlanta, GA|           null|            null|\n",
      "|AR2IQVG1187B98DEAB|           Kid Koala|Vancouver, Britis...|       49.26044|      -123.11403|\n",
      "|ARVW94P1187B9B56AF|Queen + Paul Rodgers|                    |           null|            null|\n",
      "|ARL26PR1187FB576E5|      Camera Obscura|   Glasgow, Scotland|           null|            null|\n",
      "+------------------+--------------------+--------------------+---------------+----------------+\n",
      "\n"
     ]
    }
   ],
   "source": [
    "artists.limit(5).show()"
   ]
  },
  {
   "cell_type": "markdown",
   "metadata": {},
   "source": [
    "### Function to plot a bar graph"
   ]
  },
  {
   "cell_type": "code",
   "execution_count": 181,
   "metadata": {},
   "outputs": [],
   "source": [
    "def plot(y_pos, performance, objects, l, b, clr, xlb, title, out):\n",
    "    fig= plt.figure(figsize=(l, b))\n",
    "    plt.barh(y_pos, performance, align='center', alpha=0.7, color = clr)\n",
    "    plt.yticks(y_pos, objects)\n",
    "\n",
    "    plt.xlabel(xlb)\n",
    "    plt.title(title)\n",
    "    \n",
    "    plt.savefig(out)\n",
    "    plt.show()"
   ]
  },
  {
   "cell_type": "code",
   "execution_count": 163,
   "metadata": {},
   "outputs": [],
   "source": [
    "%matplotlib inline"
   ]
  },
  {
   "cell_type": "code",
   "execution_count": 164,
   "metadata": {},
   "outputs": [],
   "source": [
    "plt.rcParams.update({'font.size': 22})"
   ]
  },
  {
   "cell_type": "markdown",
   "metadata": {},
   "source": [
    "## Find which artist's songs were the most heard in 11/2018"
   ]
  },
  {
   "cell_type": "code",
   "execution_count": 196,
   "metadata": {},
   "outputs": [],
   "source": [
    "df = spark.sql(\"SELECT artist_name, COUNT \\\n",
    "                FROM ( \\\n",
    "                SELECT artist_id, count(1) as COUNT \\\n",
    "                FROM fact_songNN f \\\n",
    "                GROUP BY artist_id ) A \\\n",
    "                LEFT JOIN artists ar \\\n",
    "                ON A.artist_id = ar.artist_id \\\n",
    "                \")"
   ]
  },
  {
   "cell_type": "code",
   "execution_count": 197,
   "metadata": {},
   "outputs": [],
   "source": [
    "#df = spark.sql(\"select count(distinct artist_id) from fact_songNN\")"
   ]
  },
  {
   "cell_type": "code",
   "execution_count": 198,
   "metadata": {},
   "outputs": [],
   "source": [
    "result_df = df.select(\"*\").toPandas()"
   ]
  },
  {
   "cell_type": "code",
   "execution_count": 195,
   "metadata": {},
   "outputs": [
    {
     "data": {
      "text/html": [
       "<div>\n",
       "<style scoped>\n",
       "    .dataframe tbody tr th:only-of-type {\n",
       "        vertical-align: middle;\n",
       "    }\n",
       "\n",
       "    .dataframe tbody tr th {\n",
       "        vertical-align: top;\n",
       "    }\n",
       "\n",
       "    .dataframe thead th {\n",
       "        text-align: right;\n",
       "    }\n",
       "</style>\n",
       "<table border=\"1\" class=\"dataframe\">\n",
       "  <thead>\n",
       "    <tr style=\"text-align: right;\">\n",
       "      <th></th>\n",
       "      <th>count(DISTINCT artist_id)</th>\n",
       "    </tr>\n",
       "  </thead>\n",
       "  <tbody>\n",
       "    <tr>\n",
       "      <th>0</th>\n",
       "      <td>11</td>\n",
       "    </tr>\n",
       "  </tbody>\n",
       "</table>\n",
       "</div>"
      ],
      "text/plain": [
       "   count(DISTINCT artist_id)\n",
       "0                         11"
      ]
     },
     "execution_count": 195,
     "metadata": {},
     "output_type": "execute_result"
    }
   ],
   "source": [
    "result_df"
   ]
  },
  {
   "cell_type": "code",
   "execution_count": 186,
   "metadata": {},
   "outputs": [],
   "source": [
    "objects_p3 = result_df['artist_name'].tolist()\n",
    "y_pos_p3 = np.arange(len(objects_p3))\n",
    "performance_p3 = (result_df['COUNT']).tolist()\n",
    "clr_p3 = ['green' if p == max(performance_p3) else 'grey' for p in performance_p3]"
   ]
  },
  {
   "cell_type": "code",
   "execution_count": 187,
   "metadata": {},
   "outputs": [
    {
     "data": {
      "image/png": "[encoded data removed]",
      "text/plain": [
       "<Figure size 1296x864 with 1 Axes>"
      ]
     },
     "metadata": {
      "needs_background": "light"
     },
     "output_type": "display_data"
    }
   ],
   "source": [
    "# Bar Graph\n",
    "plot(y_pos_p3, performance_p3, objects_p3, 18, 12, clr_p3, \"Count of Songs\", \"Most heard artist's songs\", \"p3\")"
   ]
  },
  {
   "cell_type": "markdown",
   "metadata": {},
   "source": [
    "### Create View of the songs dimension (Output) table"
   ]
  },
  {
   "cell_type": "code",
   "execution_count": 200,
   "metadata": {},
   "outputs": [],
   "source": [
    "songs = spark.read.parquet(output + '/songs')"
   ]
  },
  {
   "cell_type": "code",
   "execution_count": 201,
   "metadata": {},
   "outputs": [],
   "source": [
    "songs.createOrReplaceTempView('songs')"
   ]
  },
  {
   "cell_type": "markdown",
   "metadata": {},
   "source": [
    "## Find the most popular song in the year"
   ]
  },
  {
   "cell_type": "code",
   "execution_count": 120,
   "metadata": {},
   "outputs": [],
   "source": [
    "df = spark.sql(\"SELECT s.song_id, title, COUNT \\\n",
    "                FROM \\\n",
    "                (SELECT song_id, count(1) as COUNT \\\n",
    "                 FROM fact_songNN f GROUP BY song_id) A \\\n",
    "                LEFT JOIN songs s \\\n",
    "                ON s.song_id = A.song_id\")"
   ]
  },
  {
   "cell_type": "code",
   "execution_count": 121,
   "metadata": {},
   "outputs": [],
   "source": [
    "result_df = df.select(\"*\").toPandas()"
   ]
  },
  {
   "cell_type": "code",
   "execution_count": 122,
   "metadata": {},
   "outputs": [
    {
     "data": {
      "text/html": [
       "<div>\n",
       "<style scoped>\n",
       "    .dataframe tbody tr th:only-of-type {\n",
       "        vertical-align: middle;\n",
       "    }\n",
       "\n",
       "    .dataframe tbody tr th {\n",
       "        vertical-align: top;\n",
       "    }\n",
       "\n",
       "    .dataframe thead th {\n",
       "        text-align: right;\n",
       "    }\n",
       "</style>\n",
       "<table border=\"1\" class=\"dataframe\">\n",
       "  <thead>\n",
       "    <tr style=\"text-align: right;\">\n",
       "      <th></th>\n",
       "      <th>song_id</th>\n",
       "      <th>title</th>\n",
       "      <th>COUNT</th>\n",
       "    </tr>\n",
       "  </thead>\n",
       "  <tbody>\n",
       "    <tr>\n",
       "      <th>0</th>\n",
       "      <td>SODOLVO12B0B80B2F4</td>\n",
       "      <td>Hell</td>\n",
       "      <td>1</td>\n",
       "    </tr>\n",
       "    <tr>\n",
       "      <th>1</th>\n",
       "      <td>SOFVOQL12A6D4F7456</td>\n",
       "      <td>The Boy With The Thorn In His Side</td>\n",
       "      <td>2</td>\n",
       "    </tr>\n",
       "    <tr>\n",
       "      <th>2</th>\n",
       "      <td>SOXQYSC12A6310E908</td>\n",
       "      <td>Bitter Sweet Symphony</td>\n",
       "      <td>2</td>\n",
       "    </tr>\n",
       "    <tr>\n",
       "      <th>3</th>\n",
       "      <td>SODWXQV12A6310F10D</td>\n",
       "      <td>English Summer Rain</td>\n",
       "      <td>1</td>\n",
       "    </tr>\n",
       "    <tr>\n",
       "      <th>4</th>\n",
       "      <td>SOZCTXZ12AB0182364</td>\n",
       "      <td>Setanta matins</td>\n",
       "      <td>1</td>\n",
       "    </tr>\n",
       "    <tr>\n",
       "      <th>5</th>\n",
       "      <td>SOCHRXB12A8AE48069</td>\n",
       "      <td>Let's Get It Started</td>\n",
       "      <td>3</td>\n",
       "    </tr>\n",
       "    <tr>\n",
       "      <th>6</th>\n",
       "      <td>SONQBUB12A6D4F8ED0</td>\n",
       "      <td>Angie (1993 Digital Remaster)</td>\n",
       "      <td>2</td>\n",
       "    </tr>\n",
       "    <tr>\n",
       "      <th>7</th>\n",
       "      <td>SOAOJYY12A58A7B2F9</td>\n",
       "      <td>Not For You</td>\n",
       "      <td>1</td>\n",
       "    </tr>\n",
       "    <tr>\n",
       "      <th>8</th>\n",
       "      <td>SOLRYQR12A670215BF</td>\n",
       "      <td>Panama (Remastered Album Version)</td>\n",
       "      <td>1</td>\n",
       "    </tr>\n",
       "    <tr>\n",
       "      <th>9</th>\n",
       "      <td>SOVWWJW12A670206BE</td>\n",
       "      <td>Astrud Astronette</td>\n",
       "      <td>1</td>\n",
       "    </tr>\n",
       "    <tr>\n",
       "      <th>10</th>\n",
       "      <td>SOHDWWH12A6D4F7F6A</td>\n",
       "      <td>I Want A New Drug</td>\n",
       "      <td>1</td>\n",
       "    </tr>\n",
       "  </tbody>\n",
       "</table>\n",
       "</div>"
      ],
      "text/plain": [
       "               song_id                               title  COUNT\n",
       "0   SODOLVO12B0B80B2F4                                Hell      1\n",
       "1   SOFVOQL12A6D4F7456  The Boy With The Thorn In His Side      2\n",
       "2   SOXQYSC12A6310E908               Bitter Sweet Symphony      2\n",
       "3   SODWXQV12A6310F10D                 English Summer Rain      1\n",
       "4   SOZCTXZ12AB0182364                      Setanta matins      1\n",
       "5   SOCHRXB12A8AE48069                Let's Get It Started      3\n",
       "6   SONQBUB12A6D4F8ED0       Angie (1993 Digital Remaster)      2\n",
       "7   SOAOJYY12A58A7B2F9                         Not For You      1\n",
       "8   SOLRYQR12A670215BF   Panama (Remastered Album Version)      1\n",
       "9   SOVWWJW12A670206BE                   Astrud Astronette      1\n",
       "10  SOHDWWH12A6D4F7F6A                   I Want A New Drug      1"
      ]
     },
     "execution_count": 122,
     "metadata": {},
     "output_type": "execute_result"
    }
   ],
   "source": [
    "result_df"
   ]
  },
  {
   "cell_type": "code",
   "execution_count": 137,
   "metadata": {},
   "outputs": [],
   "source": [
    "objects_p1 = result_df['title'].tolist()\n",
    "y_pos_p1 = np.arange(len(objects_p1))\n",
    "performance_p1 = (result_df['COUNT']).tolist()\n",
    "clr_p1 = ['green' if p == max(performance_p1) else 'grey' for p in performance_p1]"
   ]
  },
  {
   "cell_type": "code",
   "execution_count": 199,
   "metadata": {},
   "outputs": [],
   "source": [
    "# Bar Graph\n",
    "#plot(y_pos_p1, performance_p1, objects_p1, 18, 12, clr_p1, \"p1\")"
   ]
  },
  {
   "cell_type": "markdown",
   "metadata": {},
   "source": [
    "## Find the number of songs in the different years"
   ]
  },
  {
   "cell_type": "code",
   "execution_count": 91,
   "metadata": {},
   "outputs": [],
   "source": [
    "df = spark.sql(\"SELECT year, COUNT(*) as COUNT FROM songs GROUP BY year\")"
   ]
  },
  {
   "cell_type": "code",
   "execution_count": 92,
   "metadata": {},
   "outputs": [],
   "source": [
    "result_df = df.select(\"*\").toPandas()"
   ]
  },
  {
   "cell_type": "code",
   "execution_count": 94,
   "metadata": {},
   "outputs": [],
   "source": [
    "def colors(p):\n",
    "    if p == max(performance):\n",
    "        return 'green'\n",
    "    elif p == min(performance):\n",
    "        return \"red\"\n",
    "    else:\n",
    "        return 'grey'"
   ]
  },
  {
   "cell_type": "code",
   "execution_count": 110,
   "metadata": {},
   "outputs": [],
   "source": [
    "objects_p2 = result_df['year'].tolist()\n",
    "y_pos_p2 = np.arange(len(objects))\n",
    "performance_p2 = (result_df['COUNT']).tolist()\n",
    "clr_p2 = [colors(p) for p in performance]"
   ]
  },
  {
   "cell_type": "code",
   "execution_count": 119,
   "metadata": {},
   "outputs": [
    {
     "data": {
      "image/png": "[encoded data removed]",
      "text/plain": [
       "<Figure size 1296x864 with 1 Axes>"
      ]
     },
     "metadata": {
      "needs_background": "light"
     },
     "output_type": "display_data"
    }
   ],
   "source": [
    "# Bar Graph\n",
    "plot(y_pos_p2, performance_p2, 18, 12, clr_p2, \"p2\")"
   ]
  },
  {
   "cell_type": "markdown",
   "metadata": {},
   "source": [
    "#### Give me the artist, song title and song's length in the music app history that was heard during sessionId = 338, and itemInSession = 4"
   ]
  },
  {
   "cell_type": "code",
   "execution_count": 202,
   "metadata": {},
   "outputs": [],
   "source": [
    "df = spark.sql(\"SELECT artist_name, title, duration \\\n",
    "                FROM fact_songNN f \\\n",
    "                LEFT JOIN songs s ON f.song_id = s.song_id \\\n",
    "                LEFT JOIN artists a ON f.artist_id = a.artist_id \\\n",
    "                WHERE session_id = 338\")"
   ]
  },
  {
   "cell_type": "markdown",
   "metadata": {},
   "source": [
    "#### Give me only the following: name of artist, song (sorted by itemInSession) and user (first and last name) for userid = 10, sessionid = 182\n"
   ]
  },
  {
   "cell_type": "code",
   "execution_count": null,
   "metadata": {},
   "outputs": [],
   "source": [
    "df = spark.sql(\"SELECT artist_name, first_name, last_name, duration \\\n",
    "                FROM fact_songNN f \\\n",
    "                LEFT JOIN users u ON f.user_id = u.user_id \\\n",
    "                LEFT JOIN artists a ON f.artist_id = a.artist_id \\\n",
    "                WHERE session_id = 182 AND user_id = 10 AND user_id \")"
   ]
  },
  {
   "cell_type": "markdown",
   "metadata": {},
   "source": [
    "#### Give me every user name (first and last) in my music app history who listened to the song 'All Hands Against His Own'"
   ]
  },
  {
   "cell_type": "code",
   "execution_count": null,
   "metadata": {},
   "outputs": [],
   "source": [
    "df = spark.sql(\"SELECT first_name, last_name \\\n",
    "                FROM fact_songNN f \\\n",
    "                LEFT JOIN users u ON f.user_id = u.user_id \\\n",
    "                LEFT JOIN songs s ON f.song_id = s.song_id \\\n",
    "                WHERE s.title = 'All Hands Against His Own'\")"
   ]
  }
 ],
 "metadata": {
  "kernelspec": {
   "display_name": "Python 3",
   "language": "python",
   "name": "python3"
  },
  "language_info": {
   "codemirror_mode": {
    "name": "ipython",
    "version": 3
   },
   "file_extension": ".py",
   "mimetype": "text/x-python",
   "name": "python",
   "nbconvert_exporter": "python",
   "pygments_lexer": "ipython3",
   "version": "3.7.0"
  }
 },
 "nbformat": 4,
 "nbformat_minor": 4
}
